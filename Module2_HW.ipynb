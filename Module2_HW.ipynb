{
  "cells": [
    {
      "cell_type": "markdown",
      "metadata": {
        "id": "view-in-github",
        "colab_type": "text"
      },
      "source": [
        "<a href=\"https://colab.research.google.com/github/NazninNaharSr/Leetcode/blob/main/Module2_HW.ipynb\" target=\"_parent\"><img src=\"https://colab.research.google.com/assets/colab-badge.svg\" alt=\"Open In Colab\"/></a>"
      ]
    },
    {
      "cell_type": "markdown",
      "id": "af429c00-0a11-41de-a117-04d1ca17bc05",
      "metadata": {
        "id": "af429c00-0a11-41de-a117-04d1ca17bc05"
      },
      "source": [
        "**Module-2 Homework**\n",
        "- Give the code for each question\n",
        "- Give me a clear expalanation of your solution way for each question\n",
        "- Submit the notebook as well as its pdf version"
      ]
    },
    {
      "cell_type": "raw",
      "id": "20bbdecd-fe5d-48d6-96ef-20583c1bd178",
      "metadata": {
        "id": "20bbdecd-fe5d-48d6-96ef-20583c1bd178"
      },
      "source": [
        "Question 1: Leetcode Question #189. Easy. \"Rotate Array\"\n",
        "\n",
        "Given an integer array nums, rotate the array to the right by k steps, where k is non-negative.\n",
        "\n",
        "\n",
        "\n",
        "Example 1:\n",
        "\n",
        "Input: nums = [1,2,3,4,5,6,7], k = 3\n",
        "Output: [5,6,7,1,2,3,4]\n",
        "Explanation:\n",
        "rotate 1 steps to the right: [7,1,2,3,4,5,6]\n",
        "rotate 2 steps to the right: [6,7,1,2,3,4,5]\n",
        "rotate 3 steps to the right: [5,6,7,1,2,3,4]\n",
        "Example 2:\n",
        "\n",
        "Input: nums = [-1,-100,3,99], k = 2\n",
        "Output: [3,99,-1,-100]\n",
        "Explanation:\n",
        "rotate 1 steps to the right: [99,-1,-100,3]\n",
        "rotate 2 steps to the right: [3,99,-1,-100]"
      ]
    },
    {
      "cell_type": "markdown",
      "id": "28641f96",
      "metadata": {
        "id": "28641f96"
      },
      "source": [
        "**Explanations:** For this problem I made a copy of array where I keeping the copy of divided array which I got from k= k % len (nums), I made 3 different reversals. I just shifted left pointer to right pointer and moved the elements one by one. after reversing them the entire list it goes to first K element. Then moved to 3rd reversal.\n",
        "    1.k = k % len(nums) results in k = 1 since 3 % 2 = 1.\n",
        "    2. After reversing the entire list: [2, 1]\n",
        "    3. After reversing the first k (1) elements: [2, 1] (no change as there's only one element)\n",
        "    4. After reversing the elements from k to end: [2, 1] (no change as there's only one element)\n",
        "    \n",
        "**Time Complexity:** 0(1)"
      ]
    },
    {
      "cell_type": "code",
      "execution_count": null,
      "id": "4faf08ff-ce38-4e9d-b1a4-071731029892",
      "metadata": {
        "id": "4faf08ff-ce38-4e9d-b1a4-071731029892",
        "outputId": "cc65195f-554e-455a-8e7b-da1a503f9034"
      },
      "outputs": [
        {
          "name": "stdout",
          "output_type": "stream",
          "text": [
            "[5, 6, 7, 1, 2, 3, 4]\n",
            "[3, 99, -1, -100]\n",
            "[2, 1]\n"
          ]
        }
      ],
      "source": [
        "    def rotate(nums, k) :\n",
        "        \"\"\"\n",
        "        Do not return anything, modify nums in-place instead.\n",
        "        \"\"\"\n",
        "\n",
        "        k= k % len (nums)\n",
        "\n",
        "        l, r=0, len(nums) -1\n",
        "        while l < r:\n",
        "            nums[l], nums[r] = nums[r], nums[l]\n",
        "            l, r=l+1, r-1\n",
        "\n",
        "        l, r=0, k-1\n",
        "        while l < r:\n",
        "            nums[l], nums[r] = nums[r], nums[l]\n",
        "            l, r=l+1, r-1\n",
        "\n",
        "        l, r=k,  len(nums)-1\n",
        "        while l < r:\n",
        "            nums[l], nums[r] = nums[r], nums[l]\n",
        "            l, r=l+1, r-1\n",
        "\n",
        "\n",
        "    nums1 = [1, 2, 3, 4, 5, 6, 7]\n",
        "    rotate(nums1, 3)\n",
        "    print(nums1)  # Output: [5, 6, 7, 1, 2, 3, 4]\n",
        "\n",
        "\n",
        "    nums2 = [-1, -100, 3, 99]\n",
        "    rotate(nums2, 2)\n",
        "    print(nums2)  # Output: [3, 99, -1, -100]\n",
        "\n",
        "\n",
        "    nums3 = [1, 2]\n",
        "    rotate(nums3, 3)\n",
        "    print(nums3)  # Output: [2, 1]"
      ]
    },
    {
      "cell_type": "raw",
      "id": "b5a94d4b-a974-4b04-8a44-d5d6f4444fd0",
      "metadata": {
        "id": "b5a94d4b-a974-4b04-8a44-d5d6f4444fd0"
      },
      "source": [
        "Question 2: Leetcode Question #665. Medium. \"Non-decreasing Array\"\n",
        "\n",
        "Given an array nums with n integers, your task is to check if it could become non-decreasing by modifying at most one element.\n",
        "\n",
        "We define an array is non-decreasing if nums[i] <= nums[i + 1] holds for every i (0-based) such that (0 <= i <= n - 2).\n",
        "\n",
        "\n",
        "\n",
        "Example 1:\n",
        "\n",
        "Input: nums = [4,2,3]\n",
        "Output: true\n",
        "Explanation: You could modify the first 4 to 1 to get a non-decreasing array.\n",
        "Example 2:\n",
        "\n",
        "Input: nums = [4,2,1]\n",
        "Output: false\n",
        "Explanation: You cannot get a non-decreasing array by modifying at most one element.\n",
        "\n",
        "\n",
        "Constraints:\n",
        "\n",
        "n == nums.length"
      ]
    },
    {
      "cell_type": "markdown",
      "id": "ed7eb07e",
      "metadata": {
        "id": "ed7eb07e"
      },
      "source": [
        "Initialize changed to False: This variable keeps track of whether we have made one modification.\n",
        "Iterate through the list: For each element, compare it to the next one.\n",
        "If the current element is less than or equal to the next element: Continue to the next iteration since the list is still non-decreasing up to this point.\n",
        "If the current element is greater than the next element:\n",
        "If we have already made a modification (changed is True): Return False because we can only make one modification.\n",
        "If this is the first modification:\n",
        "If the current element is the first element or changing the current element to the next element would not break the non-decreasing order: Modify the current element.\n",
        "Otherwise: Modify the next element.\n",
        "Set changed to True to indicate that one modification has been made.\n",
        "If the loop completes without returning False, return True because the list can be made non-decreasing with at most one modification."
      ]
    },
    {
      "cell_type": "code",
      "execution_count": null,
      "id": "5acc9773-bbff-440d-bc77-01f01e3cb541",
      "metadata": {
        "id": "5acc9773-bbff-440d-bc77-01f01e3cb541",
        "outputId": "91583ba9-57e3-4417-ddc6-52d150e93471"
      },
      "outputs": [
        {
          "name": "stdout",
          "output_type": "stream",
          "text": [
            "checkPossibility([4, 2, 3]) = True\n",
            "checkPossibility([4, 2, 1]) = False\n",
            "checkPossibility([3, 4, 2, 3]) = False\n",
            "checkPossibility([5, 7, 1, 8]) = True\n",
            "checkPossibility([1, 2, 3, 4, 5]) = True\n"
          ]
        }
      ],
      "source": [
        "def checkPossibility(nums):\n",
        "    changed = False\n",
        "    for i in range(len(nums) - 1):\n",
        "        if nums[i] <= nums[i + 1]:\n",
        "            continue\n",
        "        if changed:\n",
        "            return False\n",
        "\n",
        "        if i == 0 or nums[i + 1] >= nums[i - 1]:\n",
        "            nums[i] = nums[i + 1]\n",
        "        else:\n",
        "            nums[i + 1] = nums[i]\n",
        "        changed = True\n",
        "    return True\n",
        "\n",
        "# Test cases\n",
        "test_cases = [\n",
        "    [4, 2, 3],     # True\n",
        "    [4, 2, 1],     # False\n",
        "    [3, 4, 2, 3],  # False\n",
        "    [5, 7, 1, 8],  # True\n",
        "    [1, 2, 3, 4, 5] # True\n",
        "]\n",
        "\n",
        "# Run test cases\n",
        "for nums in test_cases:\n",
        "    result = checkPossibility(nums.copy())  # Use nums.copy() to avoid modifying the original test case data\n",
        "    print(f\"checkPossibility({nums}) = {result}\")\n"
      ]
    },
    {
      "cell_type": "markdown",
      "id": "6d82f384-2206-474d-8872-5dbb2592be76",
      "metadata": {
        "id": "6d82f384-2206-474d-8872-5dbb2592be76"
      },
      "source": [
        "Question 3: Leetcode Question #21. Easy. \"Merge Two Sorted List\"\n",
        "\n",
        "ou are given the heads of two sorted linked lists list1 and list2.\n",
        "\n",
        "Merge the two lists into one sorted list. The list should be made by splicing together the nodes of the first two lists.\n",
        "\n",
        "Return the head of the merged linked list.\n",
        "\n",
        "\n",
        "\n",
        "Example 1:\n",
        "\n",
        "![merge_ex1.jpg](attachment:d83dd8c8-a5b3-442b-9716-daf3ce3963a8.jpg)\n",
        "\n",
        "Input: list1 = [1,2,4], list2 = [1,3,4]\n",
        "Output: [1,1,2,3,4,4]\n",
        "Example 2:\n",
        "\n",
        "Input: list1 = [], list2 = []\n",
        "Output: []\n",
        "Example 3:\n",
        "\n",
        "Input: list1 = [], list2 = [0]\n",
        "Output: [0]\n",
        "\n",
        "\n",
        "Constraints:\n",
        "\n",
        "The number of nodes in both lists is in the range [0, 50].\n",
        "-100 <= Node.val <= 100\n",
        "Both list1 and list2 are sorted in non-decreasing order."
      ]
    },
    {
      "cell_type": "markdown",
      "id": "5afc95b2",
      "metadata": {
        "id": "5afc95b2"
      },
      "source": [
        "**Refactor create_linked_list:** This function can be simplified to handle the case where the input list is empty.\n",
        "**Steps:**\n",
        "Check if the input list arr is empty. If it is, return None.\n",
        "Create the head node with the first element of arr.\n",
        "Iterate through the remaining elements of arr and create subsequent nodes, linking them together.\n",
        "\n",
        "**Improve mergeTwoLists:** This function is well-written but can include comments for clarity.\n",
        "**Steps:**\n",
        "Create a dummy node to serve as the starting point of the merged list.\n",
        "Use a pointer (current) to build the merged list.\n",
        "Traverse both list1 and list2, comparing their current nodes and appending the smaller node to the merged list.\n",
        "Once one of the lists is exhausted, append the remaining nodes of the other list.\n",
        "Return the merged list starting from the node following the dummy node.\n",
        "\n",
        "**Refactor print_linked_list:** This function can be simplified to directly print the values for ease of use.\n",
        "**Steps:**\n",
        "Initialize a pointer (current) to traverse the linked list starting from the head.\n",
        "Print the value of each node, followed by -> if there are more nodes, or a newline if it's the last node.\n",
        "Move the pointer to the next node and repeat until the end of the list.\n",
        "\n",
        "\n",
        "**Time Complexity:**\n",
        "create_linked_list: O(n)\n",
        "mergeTwoLists: O(m + n)\n",
        "print_linked_list: O(n)"
      ]
    },
    {
      "cell_type": "code",
      "execution_count": null,
      "id": "8b3fdd05-b829-4d75-93f0-d70c88a3d7c4",
      "metadata": {
        "id": "8b3fdd05-b829-4d75-93f0-d70c88a3d7c4",
        "outputId": "c0434370-61e0-4e0b-d8e4-fc8c85c4075b"
      },
      "outputs": [
        {
          "name": "stdout",
          "output_type": "stream",
          "text": [
            "1 -> 1 -> 2 -> 3 -> 4 -> 4\n"
          ]
        }
      ],
      "source": [
        "class ListNode:\n",
        "    def __init__(self, val=0, next=None):\n",
        "        self.val = val\n",
        "        self.next = next\n",
        "\n",
        "def create_linked_list(arr):\n",
        "    if not arr:  # Handle the case where the input list is empty\n",
        "        return None\n",
        "    linkedlist = ListNode(arr[0])\n",
        "    current = linkedlist\n",
        "    for val in arr[1:]:\n",
        "        current.next = ListNode(val)\n",
        "        current = current.next\n",
        "    return linkedlist\n",
        "\n",
        "def mergeTwoLists(list1, list2):\n",
        "    dummy = ListNode()\n",
        "    current = dummy\n",
        "\n",
        "    while list1 and list2:\n",
        "        if list1.val < list2.val:\n",
        "            current.next = list1\n",
        "            list1 = list1.next\n",
        "        else:\n",
        "            current.next = list2\n",
        "            list2 = list2.next\n",
        "        current = current.next\n",
        "\n",
        "    # Append the remaining nodes of list1 or list2\n",
        "    current.next = list1 if list1 else list2\n",
        "\n",
        "    return dummy.next\n",
        "\n",
        "def print_linked_list(head):\n",
        "    current = head\n",
        "    while current:\n",
        "        print(current.val, end=\" -> \" if current.next else \"\\n\")\n",
        "        current = current.next\n",
        "\n",
        "# Test cases\n",
        "list1 = [1, 2, 4]\n",
        "list2 = [1, 3, 4]\n",
        "linked_list1 = create_linked_list(list1)\n",
        "linked_list2 = create_linked_list(list2)\n",
        "merged_list = mergeTwoLists(linked_list1, linked_list2)\n",
        "\n",
        "print_linked_list(merged_list)\n"
      ]
    },
    {
      "cell_type": "code",
      "execution_count": null,
      "id": "9ef3e205",
      "metadata": {
        "id": "9ef3e205"
      },
      "outputs": [],
      "source": []
    }
  ],
  "metadata": {
    "kernelspec": {
      "display_name": "Python 3 (ipykernel)",
      "language": "python",
      "name": "python3"
    },
    "language_info": {
      "codemirror_mode": {
        "name": "ipython",
        "version": 3
      },
      "file_extension": ".py",
      "mimetype": "text/x-python",
      "name": "python",
      "nbconvert_exporter": "python",
      "pygments_lexer": "ipython3",
      "version": "3.11.5"
    },
    "colab": {
      "provenance": [],
      "include_colab_link": true
    }
  },
  "nbformat": 4,
  "nbformat_minor": 5
}