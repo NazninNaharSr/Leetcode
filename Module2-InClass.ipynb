{
 "cells": [
  {
   "cell_type": "raw",
   "id": "9f45622d-4b06-46eb-afcc-235505f5eb56",
   "metadata": {},
   "source": [
    "Question 1: LeetCode Questino #26. Easy. \"Remove Duplicates from Sorted Array\"\n",
    "\n",
    "Given an integer array nums sorted in non-decreasing order, remove the duplicates in-place such that each unique element appears only once. The relative order of the elements should be kept the same. Then return the number of unique elements in nums.\n",
    "\n",
    "Consider the number of unique elements of nums to be k, to get accepted, you need to do the following things:\n",
    "\n",
    "Change the array nums such that the first k elements of nums contain the unique elements in the order they were present in nums initially. The remaining elements of nums are not important as well as the size of nums.\n",
    "Return k.\n",
    "Custom Judge:\n",
    "\n",
    "The judge will test your solution with the following code:\n",
    "\n",
    "int[] nums = [...]; // Input array\n",
    "int[] expectedNums = [...]; // The expected answer with correct length\n",
    "\n",
    "int k = removeDuplicates(nums); // Calls your implementation\n",
    "\n",
    "assert k == expectedNums.length;\n",
    "for (int i = 0; i < k; i++) {\n",
    "    assert nums[i] == expectedNums[i];\n",
    "}\n",
    "If all assertions pass, then your solution will be accepted.\n",
    "\n",
    " \n",
    "\n",
    "Example 1:\n",
    "\n",
    "Input: nums = [1,1,2]\n",
    "Output: 2, nums = [1,2,_]\n",
    "Explanation: Your function should return k = 2, with the first two elements of nums being 1 and 2 respectively.\n",
    "It does not matter what you leave beyond the returned k (hence they are underscores).\n",
    "Example 2:\n",
    "\n",
    "Input: nums = [0,0,1,1,1,2,2,3,3,4]\n",
    "Output: 5, nums = [0,1,2,3,4,_,_,_,_,_]\n",
    "Explanation: Your function should return k = 5, with the first five elements of nums being 0, 1, 2, 3, and 4 respectively.\n",
    "It does not matter what you leave beyond the returned k (hence they are underscores)."
   ]
  },
  {
   "cell_type": "code",
   "execution_count": null,
   "id": "a30dd20b-cd0d-4eb8-938c-2ed9f654f742",
   "metadata": {},
   "outputs": [],
   "source": [
    "for R in range (1: n):\n",
    "    if nums [R]!=nums [R+1]:\n",
    "        nums [L]=nums [R]\n",
    "        L= L+1      #space & time complexity O(n)\n",
    "    return (nums, L)"
   ]
  },
  {
   "cell_type": "code",
   "execution_count": null,
   "id": "ff2d987b-562e-4654-95e7-dd0940523654",
   "metadata": {},
   "outputs": [],
   "source": [
    "So the way I will try to solve it-\n",
    "\n",
    "n = len(nums) calculates the length of the nums list.\n",
    "L = 1 initializes a variable L to keep track of the position to update in the nums list.\n",
    "The for loop iterates over the range from 1 to n - 1. R represents the current index being processed.\n",
    "if nums[R] != nums[R - 1]: checks if the current number (nums[R]) is not equal to the previous number (nums[R - 1]). If they are different, it means we've encountered a new number.\n",
    "Inside the if block, nums[L] = nums[R] updates the nums list at position L with the current number. This effectively removes duplicates as only distinct numbers get copied to the front of the list.\n",
    "L += 1 increments L by 1 to move the pointer to the next position where the next distinct number should be placed.\n",
    "After the loop completes, return nums[:L], L returns a tuple containing the updated nums list up to position L and the value of L, which represents the length of the updated list without duplicates.\n",
    "The space complexity of this algorithm is O(1) because it operates in-place on the nums list, and the time complexity is O(n) where n is the length of the input list nums."
   ]
  },
  {
   "cell_type": "raw",
   "id": "16159cff-0961-4108-b80f-8a64913415a1",
   "metadata": {},
   "source": [
    "Question 2: Leetcode Question #27. Easy. \"Remove Element\"\n",
    "\n",
    "Given an integer array nums and an integer val, remove all occurrences of val in nums in-place. The order of the elements may be changed. Then return the number of elements in nums which are not equal to val.\n",
    "\n",
    "Consider the number of elements in nums which are not equal to val be k, to get accepted, you need to do the following things:\n",
    "\n",
    "Change the array nums such that the first k elements of nums contain the elements which are not equal to val. The remaining elements of nums are not important as well as the size of nums.\n",
    "Return k.\n",
    "Custom Judge:\n",
    "\n",
    "The judge will test your solution with the following code:\n",
    "\n",
    "int[] nums = [...]; // Input array\n",
    "int val = ...; // Value to remove\n",
    "int[] expectedNums = [...]; // The expected answer with correct length.\n",
    "                            // It is sorted with no values equaling val.\n",
    "\n",
    "int k = removeElement(nums, val); // Calls your implementation\n",
    "\n",
    "assert k == expectedNums.length;\n",
    "sort(nums, 0, k); // Sort the first k elements of nums\n",
    "for (int i = 0; i < actualLength; i++) {\n",
    "    assert nums[i] == expectedNums[i];\n",
    "}\n",
    "If all assertions pass, then your solution will be accepted.\n",
    "\n",
    " \n",
    "\n",
    "Example 1:\n",
    "\n",
    "Input: nums = [3,2,2,3], val = 3\n",
    "Output: 2, nums = [2,2,_,_]\n",
    "Explanation: Your function should return k = 2, with the first two elements of nums being 2.\n",
    "It does not matter what you leave beyond the returned k (hence they are underscores).\n",
    "Example 2:\n",
    "\n",
    "Input: nums = [0,1,2,2,3,0,4,2], val = 2\n",
    "Output: 5, nums = [0,1,4,0,3,_,_,_]\n",
    "Explanation: Your function should return k = 5, with the first five elements of nums containing 0, 0, 1, 3, and 4.\n",
    "Note that the five elements can be returned in any order.\n",
    "It does not matter what you leave beyond the returned k (hence they are underscores)."
   ]
  },
  {
   "cell_type": "code",
   "execution_count": null,
   "id": "253e3b62-c5fa-4f55-a479-e34033cb0e7e",
   "metadata": {},
   "outputs": [],
   "source": [
    "for R in range (n):\n",
    "    if num [R] != num [val]:\n",
    "        nums [L] = nums [R]\n",
    "        L= L+1   #space & time complexity O(n)"
   ]
  },
  {
   "cell_type": "code",
   "execution_count": null,
   "id": "d07e760a-4a10-4b30-9104-be7525b85307",
   "metadata": {},
   "outputs": [],
   "source": [
    "n = len(nums) calculates the length of the nums list.\n",
    "L = 0 initializes a variable L to keep track of the position to update in the nums list. val is also initialized to 0 as the initial comparison value.\n",
    "The for loop iterates over the range from 0 to n - 1. R represents the current index being processed.\n",
    "if nums[R] != nums[val]: checks if the current number (nums[R]) is not equal to the number at index val. If they are different, it means we've encountered a new number.\n",
    "Inside the if block, nums[L] = nums[R] updates the nums list at position L with the current number. This effectively removes duplicates as only distinct numbers get copied to the front of the list.\n",
    "L += 1 increments L by 1 to move the pointer to the next position where the next distinct number should be placed.\n",
    "val = R updates val to the current index R, which represents the most recent position of a distinct number encountered.\n",
    "After the loop completes, return nums[:L], L returns a tuple containing the updated nums list up to position L and the value of L, which represents the length of the updated list without duplicates.\n",
    "The space complexity of this algorithm is O(1) because it operates in-place on the nums list, and the time complexity is O(n) where n is the length of the input list nums.\n"
   ]
  },
  {
   "cell_type": "raw",
   "id": "07e636d3-d7d8-41f0-9c9d-c3a1bdddd461",
   "metadata": {},
   "source": [
    "Question 3: Leetcode Question #1929. Easy.  Concatenation of Array\n",
    "Given an integer array nums of length n, you want to create an array ans of length 2n where ans[i] == nums[i] and ans[i + n] == nums[i] for 0 <= i < n (0-indexed).\n",
    "\n",
    "Specifically, ans is the concatenation of two nums arrays.\n",
    "\n",
    "Return the array ans.\n",
    "\n",
    " \n",
    "\n",
    "Example 1:\n",
    "\n",
    "Input: nums = [1,2,1]\n",
    "Output: [1,2,1,1,2,1]\n",
    "Explanation: The array ans is formed as follows:\n",
    "- ans = [nums[0],nums[1],nums[2],nums[0],nums[1],nums[2]]\n",
    "- ans = [1,2,1,1,2,1]\n",
    "Example 2:\n",
    "\n",
    "Input: nums = [1,3,2,1]\n",
    "Output: [1,3,2,1,1,3,2,1]\n",
    "Explanation: The array ans is formed as follows:\n",
    "- ans = [nums[0],nums[1],nums[2],nums[3],nums[0],nums[1],nums[2],nums[3]]\n",
    "- ans = [1,3,2,1,1,3,2,1]\n"
   ]
  },
  {
   "cell_type": "code",
   "execution_count": null,
   "id": "aa2650d5-5280-475a-97c2-b4996b763a76",
   "metadata": {},
   "outputs": [],
   "source": [
    "output = [0] * 2* n\n",
    "for j in range (2):\n",
    "    for i in range (n):\n",
    "        output [i + j * n] = nums [i]   ##space & time complexity O(n)"
   ]
  },
  {
   "cell_type": "code",
   "execution_count": null,
   "id": "ca05f659-f8fb-450c-a345-07fbb8307adc",
   "metadata": {},
   "outputs": [],
   "source": [
    "output = [0] * 2 * n: This line creates a list called output with a length of 2 * n where each element is initially set to 0.\n",
    "The outer loop for j in range(2): iterates twice because range(2) generates values [0, 1] for j.\n",
    "The inner loop for i in range(n): iterates over the range from 0 to n - 1. i represents the current index in the nums list.\n",
    "output[i + j * n] = nums[i]: This line assigns the value of nums[i] to the corresponding position in the output list based on the formula i + j * n. This formula calculates the correct index in output based on both i and j.\n",
    "The formula i + j * n ensures that each element in the output list is populated correctly based on the indices of nums. The j * n part ensures that the elements for j=1 are placed after the elements for j=0 in output, effectively doubling the length of the list.\n",
    "\n",
    "Since each element in nums is copied once to output, the space complexity is O(n) because output has a length of 2 * n. The time complexity is also O(n) because both loops iterate over n elements, resulting in a linear time complexity with respect to the size of nums."
   ]
  },
  {
   "cell_type": "raw",
   "id": "14c4bf8c-70cc-498f-b3e5-e5ff46368781",
   "metadata": {},
   "source": [
    "Question 4: Leetcode Question #88. Easy. \"Merge Sorted Array\"\n",
    "\n",
    "You are given two integer arrays nums1 and nums2, sorted in non-decreasing order, and two integers m and n, representing the number of elements in nums1 and nums2 respectively.\n",
    "\n",
    "Merge nums1 and nums2 into a single array sorted in non-decreasing order.\n",
    "\n",
    "The final sorted array should not be returned by the function, but instead be stored inside the array nums1. To accommodate this, nums1 has a length of m + n, where the first m elements denote the elements that should be merged, and the last n elements are set to 0 and should be ignored. nums2 has a length of n.\n",
    "\n",
    " \n",
    "\n",
    "Example 1:\n",
    "\n",
    "Input: nums1 = [1,2,3,0,0,0], m = 3, nums2 = [2,5,6], n = 3\n",
    "Output: [1,2,2,3,5,6]\n",
    "Explanation: The arrays we are merging are [1,2,3] and [2,5,6].\n",
    "The result of the merge is [1,2,2,3,5,6] with the underlined elements coming from nums1.\n",
    "Example 2:\n",
    "\n",
    "Input: nums1 = [1], m = 1, nums2 = [], n = 0\n",
    "Output: [1]\n",
    "Explanation: The arrays we are merging are [1] and [].\n",
    "The result of the merge is [1].\n",
    "Example 3:\n",
    "\n",
    "Input: nums1 = [0], m = 0, nums2 = [1], n = 1\n",
    "Output: [1]\n",
    "Explanation: The arrays we are merging are [] and [1].\n",
    "The result of the merge is [1].\n",
    "Note that because m = 0, there are no elements in nums1. The 0 is only there to ensure the merge result can fit in nums1.\n",
    " \n",
    "\n",
    "Constraints:\n",
    "\n",
    "nums1.length == m + n\n",
    "nums2.length == n"
   ]
  },
  {
   "cell_type": "code",
   "execution_count": null,
   "id": "d14fa4f4-8901-4af8-83a6-a1f9fcc2ff49",
   "metadata": {},
   "outputs": [],
   "source": [
    "l = m+n-1\n",
    "while (m>0) & (n>0):\n",
    "    if nums [m] > num2[n]:\n",
    "        nums [l] = nums2 [m]\n",
    "        m = m-1\n",
    "        l= l-1\n",
    "        \n",
    "    elif nums2[n]> nums[m]:\n",
    "        nums[l]= nums2[n]\n",
    "        n = n-1\n",
    "        l = l-1\n",
    "    \n",
    "    if m ==0:\n",
    "        nums[:l] = nums2[:n]"
   ]
  },
  {
   "cell_type": "code",
   "execution_count": null,
   "id": "91ced63a-0d92-4d9b-a707-78263ed6fa89",
   "metadata": {},
   "outputs": [],
   "source": [
    "l = m + n - 1: Initializes l to the index at the end of the merged array.\n",
    "The while loop continues as long as both m and n are greater than 0.\n",
    "Inside the loop:\n",
    "If nums[m] > nums2[n], it means the element from nums should come next in the merged array. So, nums[l] is updated with nums[m], and both m and l are decremented by 1.\n",
    "If nums2[n] > nums[m], it means the element from nums2 should come next in the merged array. So, nums[l] is updated with nums2[n], and both n and l are decremented by 1.\n",
    "The if m == 0 condition checks if all elements from nums have been processed. If so, it means that nums2 still has elements remaining. In this case, nums[:l] = nums2[:n] copies the remaining elements of nums2 into nums.\n",
    "This code appears to be merging two sorted arrays (nums and nums2) into a single sorted array nums, assuming nums has enough space to accommodate the merged result.\n",
    "\n",
    "The time complexity of this algorithm is O(m + n) where m is the length of nums and n is the length of nums2. The space complexity is O(1) because the merging is done in-place within the nums array."
   ]
  },
  {
   "cell_type": "code",
   "execution_count": null,
   "id": "aee27f52",
   "metadata": {},
   "outputs": [],
   "source": [
    "Question 5: Leetcode Question #206. Easy. \"Reversed Linked List\"\n",
    "\n",
    "Given the head of a singly linked list, reverse the list, and return the reversed list.\n",
    "\n",
    " \n",
    "\n",
    "Example 1:\n",
    "\n",
    "![rev1ex1.jpg](attachment:54b0e2ec-8b79-4900-932c-306dabaad0ea.jpg)\n",
    "\n",
    "Input: head = [1,2,3,4,5]\n",
    "Output: [5,4,3,2,1]\n",
    "\n",
    "Example 2:\n",
    "\n",
    "![rev1ex2.jpg](attachment:93beacbf-0085-4a7b-b117-daecb5d60bd7.jpg)\n",
    "\n",
    "Input: head = [1,2]\n",
    "Output: [2,1]\n",
    "Example 3:\n",
    "\n",
    "Input: head = [ ]\n",
    "Output: [ ]\n",
    " \n",
    "\n",
    "Constraints:\n",
    "\n",
    "The number of nodes in the list is the range [0, 5000].\n",
    "-5000 <= Node.val <= 5000"
   ]
  },
  {
   "cell_type": "code",
   "execution_count": 2,
   "id": "34cae841-23e1-42d3-9a9a-1f23b8c310ba",
   "metadata": {},
   "outputs": [
    {
     "ename": "NameError",
     "evalue": "name 'none' is not defined",
     "output_type": "error",
     "traceback": [
      "\u001b[1;31m---------------------------------------------------------------------------\u001b[0m",
      "\u001b[1;31mNameError\u001b[0m                                 Traceback (most recent call last)",
      "Cell \u001b[1;32mIn[2], line 1\u001b[0m\n\u001b[1;32m----> 1\u001b[0m prev \u001b[38;5;241m=\u001b[39m none\n\u001b[0;32m      2\u001b[0m curr \u001b[38;5;241m=\u001b[39m Head\n\u001b[0;32m      3\u001b[0m temp \u001b[38;5;241m=\u001b[39m curr\u001b[38;5;241m.\u001b[39mnext\n",
      "\u001b[1;31mNameError\u001b[0m: name 'none' is not defined"
     ]
    }
   ],
   "source": [
    "prev = none\n",
    "curr = Head\n",
    "------1\n",
    "temp = curr.next  1]\n",
    "curr.next = prev\n",
    "---------2\n",
    "\n",
    "prev = curr\n",
    "curr = temp\n",
    "\n",
    "##space & time complexity O(n)\n",
    "temp = curr.next       2]\n",
    "curr.next = prev\n",
    "prev = curr\n",
    "curr = temp"
   ]
  },
  {
   "cell_type": "code",
   "execution_count": 3,
   "id": "7ea1112d-1cf0-4839-93a2-4840d61c1905",
   "metadata": {},
   "outputs": [
    {
     "ename": "SyntaxError",
     "evalue": "unterminated string literal (detected at line 1) (2129667714.py, line 1)",
     "output_type": "error",
     "traceback": [
      "\u001b[1;36m  Cell \u001b[1;32mIn[3], line 1\u001b[1;36m\u001b[0m\n\u001b[1;33m    ListNode is a class representing each node in the singly linked list. Each node has a val attribute containing the node's value and a next attribute pointing to the next node in the list.\u001b[0m\n\u001b[1;37m                                                                                                                           ^\u001b[0m\n\u001b[1;31mSyntaxError\u001b[0m\u001b[1;31m:\u001b[0m unterminated string literal (detected at line 1)\n"
     ]
    }
   ],
   "source": [
    "ListNode is a class representing each node in the singly linked list. Each node has a val attribute containing the node's value and a next attribute pointing to the next node in the list.\n",
    "reverseLinkedList is a function that takes the head of the linked list as input and returns the head of the reversed linked list.\n",
    "We initialize prev to None as there's no node before the head initially, and current to head to start traversing the list.\n",
    "Inside the while loop, we perform the reversal. We store the next node temporarily, update current.next to point to the previous node (prev), move prev to current, and move current to the next node (next_node).\n",
    "The loop continues until current becomes None, which means we've reached the end of the original list.\n",
    "Finally, we return prev, which now points to the new head of the reversed list.\n",
    "\n",
    "Time and space complexity will be O(n)."
   ]
  },
  {
   "cell_type": "code",
   "execution_count": null,
   "id": "e66e8436",
   "metadata": {},
   "outputs": [],
   "source": []
  }
 ],
 "metadata": {
  "kernelspec": {
   "display_name": "Python 3 (ipykernel)",
   "language": "python",
   "name": "python3"
  },
  "language_info": {
   "codemirror_mode": {
    "name": "ipython",
    "version": 3
   },
   "file_extension": ".py",
   "mimetype": "text/x-python",
   "name": "python",
   "nbconvert_exporter": "python",
   "pygments_lexer": "ipython3",
   "version": "3.11.5"
  }
 },
 "nbformat": 4,
 "nbformat_minor": 5
}
